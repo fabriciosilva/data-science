{
  "nbformat": 4,
  "nbformat_minor": 0,
  "metadata": {
    "colab": {
      "name": "Migrando do SQL para o Pandas",
      "provenance": [],
      "collapsed_sections": [],
      "toc_visible": true
    },
    "kernelspec": {
      "name": "python3",
      "display_name": "Python 3"
    }
  },
  "cells": [
    {
      "cell_type": "markdown",
      "metadata": {
        "id": "tKDk8rTiH45O",
        "colab_type": "text"
      },
      "source": [
        "# Migrando do SQL para o Pandas\n",
        "\n",
        "Eu acho a documentação do Pandas sensacional e tem um item que ajudou muito em converter meu raciocínio forjado no SQL para os objetos do Pandas.\n",
        "\n",
        "![](http://fourb.com.br/blog/wp-content/uploads/2020/03/sql-pandas-768x412.png)\n",
        "\n",
        "Estou falando da página “Comparison with other tools”, que além do SQL mostra exemplos de R, SAS e Stata de forma simples e direta.\n",
        "\n",
        "Vou mostrar alguns exemplos, mas recomendo a leitura diretamente na documentação para uma visão mais abrangente.\n",
        "\n",
        "##Dataframe\n",
        "\n",
        "Antes de começar, vamos considerar o seguinte dataframe para estudo:\n",
        "\n",
        "\n",
        "\n"
      ]
    },
    {
      "cell_type": "code",
      "metadata": {
        "id": "BVpLX1GuINt6",
        "colab_type": "code",
        "colab": {}
      },
      "source": [
        "# importando as dependencias e criando o dataframe de exemplo\n",
        "import pandas as pd\n",
        "import numpy as np\n"
      ],
      "execution_count": 0,
      "outputs": []
    },
    {
      "cell_type": "code",
      "metadata": {
        "id": "WMU0PtcgKNkk",
        "colab_type": "code",
        "colab": {
          "base_uri": "https://localhost:8080/",
          "height": 204
        },
        "outputId": "a1c5beeb-f9a2-411d-9ab2-62d5f99e5689"
      },
      "source": [
        "\n",
        "data = {\n",
        "          'total_bill': [16.99, 10.34, 21.01, 23.68, 24.59, 12.56, 16.99, 10.34, 21.01, 23.68, 24.59, 12.56],\n",
        "          'tip': [1.01, 1.66, 3.5, 3.31, 3.61, 2, 1.01, 1.66, 3.5, 3.31, 3.61, 2],\n",
        "          'smoker': ['no', 'no','no','no','no','no', 'no', 'no','no','no','no','no'],\n",
        "          'time': ['Dinner', 'Lunch', 'Lunch', 'Dinner', 'Dinner', 'Lunch', 'Dinner', 'Dinner', 'Dinner', 'Lunch', 'Dinner', 'Dinner'],\n",
        "          'sex': ['Male', 'Male', 'Female', 'Male', 'Male', 'Male', 'Male', 'Male', 'Female', 'Male', 'Female', 'Female'],\n",
        "          'day': ['Fri', 'Sat', 'Sun', 'Thur', 'Mon', 'Sun', 'Thur', 'Mon', 'Fri', 'Sat', 'Sun', 'Thur']\n",
        "        }\n",
        "\n",
        "tips = pd.DataFrame(data,columns=['total_bill',  'tip',  'smoker', 'time', 'sex', 'day'])\n",
        "tips.head()"
      ],
      "execution_count": 28,
      "outputs": [
        {
          "output_type": "execute_result",
          "data": {
            "text/html": [
              "<div>\n",
              "<style scoped>\n",
              "    .dataframe tbody tr th:only-of-type {\n",
              "        vertical-align: middle;\n",
              "    }\n",
              "\n",
              "    .dataframe tbody tr th {\n",
              "        vertical-align: top;\n",
              "    }\n",
              "\n",
              "    .dataframe thead th {\n",
              "        text-align: right;\n",
              "    }\n",
              "</style>\n",
              "<table border=\"1\" class=\"dataframe\">\n",
              "  <thead>\n",
              "    <tr style=\"text-align: right;\">\n",
              "      <th></th>\n",
              "      <th>total_bill</th>\n",
              "      <th>tip</th>\n",
              "      <th>smoker</th>\n",
              "      <th>time</th>\n",
              "      <th>sex</th>\n",
              "      <th>day</th>\n",
              "    </tr>\n",
              "  </thead>\n",
              "  <tbody>\n",
              "    <tr>\n",
              "      <th>0</th>\n",
              "      <td>16.99</td>\n",
              "      <td>1.01</td>\n",
              "      <td>no</td>\n",
              "      <td>Dinner</td>\n",
              "      <td>Male</td>\n",
              "      <td>Fri</td>\n",
              "    </tr>\n",
              "    <tr>\n",
              "      <th>1</th>\n",
              "      <td>10.34</td>\n",
              "      <td>1.66</td>\n",
              "      <td>no</td>\n",
              "      <td>Lunch</td>\n",
              "      <td>Male</td>\n",
              "      <td>Sat</td>\n",
              "    </tr>\n",
              "    <tr>\n",
              "      <th>2</th>\n",
              "      <td>21.01</td>\n",
              "      <td>3.50</td>\n",
              "      <td>no</td>\n",
              "      <td>Lunch</td>\n",
              "      <td>Female</td>\n",
              "      <td>Sun</td>\n",
              "    </tr>\n",
              "    <tr>\n",
              "      <th>3</th>\n",
              "      <td>23.68</td>\n",
              "      <td>3.31</td>\n",
              "      <td>no</td>\n",
              "      <td>Dinner</td>\n",
              "      <td>Male</td>\n",
              "      <td>Thur</td>\n",
              "    </tr>\n",
              "    <tr>\n",
              "      <th>4</th>\n",
              "      <td>24.59</td>\n",
              "      <td>3.61</td>\n",
              "      <td>no</td>\n",
              "      <td>Dinner</td>\n",
              "      <td>Male</td>\n",
              "      <td>Mon</td>\n",
              "    </tr>\n",
              "  </tbody>\n",
              "</table>\n",
              "</div>"
            ],
            "text/plain": [
              "   total_bill   tip smoker    time     sex   day\n",
              "0       16.99  1.01     no  Dinner    Male   Fri\n",
              "1       10.34  1.66     no   Lunch    Male   Sat\n",
              "2       21.01  3.50     no   Lunch  Female   Sun\n",
              "3       23.68  3.31     no  Dinner    Male  Thur\n",
              "4       24.59  3.61     no  Dinner    Male   Mon"
            ]
          },
          "metadata": {
            "tags": []
          },
          "execution_count": 28
        }
      ]
    },
    {
      "cell_type": "markdown",
      "metadata": {
        "id": "O4QL2EZ8L6kT",
        "colab_type": "text"
      },
      "source": [
        "## Select\n",
        "Com certeza, a primeira palavra que digitamos quando começamos no SQL. Com este comando de DML, buscamos selecionar informações da base de dados. Podemos informar do SGDB quais as colunas a serem retornadas ou trazer todas usando o popular select * from table. No exemplo abaixo, buscamos algumas colunas da tabela tips, limitando a 5 linhas de retorno:\n",
        "\n",
        "\n",
        "```\n",
        "SELECT total_bill, tip, smoker, time\n",
        "FROM tips\n",
        "LIMIT 5;\n",
        "```\n",
        "\n",
        "No Pandas o mesmo resultado é obtido passa uma lista de nomes de colunas para nosso DataFrame:"
      ]
    },
    {
      "cell_type": "code",
      "metadata": {
        "id": "ubzj6R_JL-bK",
        "colab_type": "code",
        "colab": {
          "base_uri": "https://localhost:8080/",
          "height": 204
        },
        "outputId": "7758be14-93d5-44c7-f3be-af4dc9efd663"
      },
      "source": [
        "tips[['total_bill', 'tip', 'smoker', 'time']].head(5)"
      ],
      "execution_count": 29,
      "outputs": [
        {
          "output_type": "execute_result",
          "data": {
            "text/html": [
              "<div>\n",
              "<style scoped>\n",
              "    .dataframe tbody tr th:only-of-type {\n",
              "        vertical-align: middle;\n",
              "    }\n",
              "\n",
              "    .dataframe tbody tr th {\n",
              "        vertical-align: top;\n",
              "    }\n",
              "\n",
              "    .dataframe thead th {\n",
              "        text-align: right;\n",
              "    }\n",
              "</style>\n",
              "<table border=\"1\" class=\"dataframe\">\n",
              "  <thead>\n",
              "    <tr style=\"text-align: right;\">\n",
              "      <th></th>\n",
              "      <th>total_bill</th>\n",
              "      <th>tip</th>\n",
              "      <th>smoker</th>\n",
              "      <th>time</th>\n",
              "    </tr>\n",
              "  </thead>\n",
              "  <tbody>\n",
              "    <tr>\n",
              "      <th>0</th>\n",
              "      <td>16.99</td>\n",
              "      <td>1.01</td>\n",
              "      <td>no</td>\n",
              "      <td>Dinner</td>\n",
              "    </tr>\n",
              "    <tr>\n",
              "      <th>1</th>\n",
              "      <td>10.34</td>\n",
              "      <td>1.66</td>\n",
              "      <td>no</td>\n",
              "      <td>Lunch</td>\n",
              "    </tr>\n",
              "    <tr>\n",
              "      <th>2</th>\n",
              "      <td>21.01</td>\n",
              "      <td>3.50</td>\n",
              "      <td>no</td>\n",
              "      <td>Lunch</td>\n",
              "    </tr>\n",
              "    <tr>\n",
              "      <th>3</th>\n",
              "      <td>23.68</td>\n",
              "      <td>3.31</td>\n",
              "      <td>no</td>\n",
              "      <td>Dinner</td>\n",
              "    </tr>\n",
              "    <tr>\n",
              "      <th>4</th>\n",
              "      <td>24.59</td>\n",
              "      <td>3.61</td>\n",
              "      <td>no</td>\n",
              "      <td>Dinner</td>\n",
              "    </tr>\n",
              "  </tbody>\n",
              "</table>\n",
              "</div>"
            ],
            "text/plain": [
              "   total_bill   tip smoker    time\n",
              "0       16.99  1.01     no  Dinner\n",
              "1       10.34  1.66     no   Lunch\n",
              "2       21.01  3.50     no   Lunch\n",
              "3       23.68  3.31     no  Dinner\n",
              "4       24.59  3.61     no  Dinner"
            ]
          },
          "metadata": {
            "tags": []
          },
          "execution_count": 29
        }
      ]
    },
    {
      "cell_type": "markdown",
      "metadata": {
        "id": "Azek86WSMZdZ",
        "colab_type": "text"
      },
      "source": [
        "##Where\n",
        "As vezes esquecido nos updates e deletes (brincadeira!), a cláusula WHERE no SQL especifica que uma instrução deve afetar apenas as linhas que atendem aos critérios especificados. No exemplo abaixo, queremos ver todas as linhas da tabela tips onde o time for igual a dinner\n",
        "\n",
        "\n",
        "\n",
        "```\n",
        "SELECT *\n",
        "FROM tips\n",
        "WHERE time = 'Dinner'\n",
        "LIMIT 5;\n",
        "```\n",
        "No Pandas, o DataFrame pode ser filtrado de várias maneiras. A mais intuitiva é usando a indexação booleana, que não vem ao caso agora. Vamos ao código:\n"
      ]
    },
    {
      "cell_type": "code",
      "metadata": {
        "id": "eTmwY0rtMjHx",
        "colab_type": "code",
        "colab": {
          "base_uri": "https://localhost:8080/",
          "height": 204
        },
        "outputId": "98a95f54-033c-4118-906f-1fe5dd894410"
      },
      "source": [
        "tips[tips['time'] == 'Dinner'].head(5)"
      ],
      "execution_count": 30,
      "outputs": [
        {
          "output_type": "execute_result",
          "data": {
            "text/html": [
              "<div>\n",
              "<style scoped>\n",
              "    .dataframe tbody tr th:only-of-type {\n",
              "        vertical-align: middle;\n",
              "    }\n",
              "\n",
              "    .dataframe tbody tr th {\n",
              "        vertical-align: top;\n",
              "    }\n",
              "\n",
              "    .dataframe thead th {\n",
              "        text-align: right;\n",
              "    }\n",
              "</style>\n",
              "<table border=\"1\" class=\"dataframe\">\n",
              "  <thead>\n",
              "    <tr style=\"text-align: right;\">\n",
              "      <th></th>\n",
              "      <th>total_bill</th>\n",
              "      <th>tip</th>\n",
              "      <th>smoker</th>\n",
              "      <th>time</th>\n",
              "      <th>sex</th>\n",
              "      <th>day</th>\n",
              "    </tr>\n",
              "  </thead>\n",
              "  <tbody>\n",
              "    <tr>\n",
              "      <th>0</th>\n",
              "      <td>16.99</td>\n",
              "      <td>1.01</td>\n",
              "      <td>no</td>\n",
              "      <td>Dinner</td>\n",
              "      <td>Male</td>\n",
              "      <td>Fri</td>\n",
              "    </tr>\n",
              "    <tr>\n",
              "      <th>3</th>\n",
              "      <td>23.68</td>\n",
              "      <td>3.31</td>\n",
              "      <td>no</td>\n",
              "      <td>Dinner</td>\n",
              "      <td>Male</td>\n",
              "      <td>Thur</td>\n",
              "    </tr>\n",
              "    <tr>\n",
              "      <th>4</th>\n",
              "      <td>24.59</td>\n",
              "      <td>3.61</td>\n",
              "      <td>no</td>\n",
              "      <td>Dinner</td>\n",
              "      <td>Male</td>\n",
              "      <td>Mon</td>\n",
              "    </tr>\n",
              "    <tr>\n",
              "      <th>6</th>\n",
              "      <td>16.99</td>\n",
              "      <td>1.01</td>\n",
              "      <td>no</td>\n",
              "      <td>Dinner</td>\n",
              "      <td>Male</td>\n",
              "      <td>Thur</td>\n",
              "    </tr>\n",
              "    <tr>\n",
              "      <th>7</th>\n",
              "      <td>10.34</td>\n",
              "      <td>1.66</td>\n",
              "      <td>no</td>\n",
              "      <td>Dinner</td>\n",
              "      <td>Male</td>\n",
              "      <td>Mon</td>\n",
              "    </tr>\n",
              "  </tbody>\n",
              "</table>\n",
              "</div>"
            ],
            "text/plain": [
              "   total_bill   tip smoker    time   sex   day\n",
              "0       16.99  1.01     no  Dinner  Male   Fri\n",
              "3       23.68  3.31     no  Dinner  Male  Thur\n",
              "4       24.59  3.61     no  Dinner  Male   Mon\n",
              "6       16.99  1.01     no  Dinner  Male  Thur\n",
              "7       10.34  1.66     no  Dinner  Male   Mon"
            ]
          },
          "metadata": {
            "tags": []
          },
          "execution_count": 30
        }
      ]
    },
    {
      "cell_type": "markdown",
      "metadata": {
        "id": "aOPj-DWSM_vL",
        "colab_type": "text"
      },
      "source": [
        "## Group By\n",
        "O GROUP BY é utilizado para separar os registros selecionados em grupos específicos. Com os agrupamentos criados, podemos aplicar as funções de agregação, que podem ser contar os registros do grupo, somar valores, valores máximos e mínimos e etc.\n",
        "\n",
        "**Vamos a um exemplo**\n",
        "\n",
        "No código abaixo, **contamos** os registros agrupados pela coluna sex.\n",
        "\n",
        "\n",
        "```\n",
        "SELECT sex, count(*)\n",
        "FROM tips\n",
        "GROUP BY sex;\n",
        "/*\n",
        "Female     4\n",
        "Male       8\n",
        "*/ \n",
        "```\n",
        "O equivalente no Pandas pode ser:\n"
      ]
    },
    {
      "cell_type": "code",
      "metadata": {
        "id": "1MHm-aV0NNmZ",
        "colab_type": "code",
        "colab": {
          "base_uri": "https://localhost:8080/",
          "height": 85
        },
        "outputId": "6c32bcd4-66d5-429f-ae1e-87a50d9a6878"
      },
      "source": [
        "tips.groupby('sex').size()"
      ],
      "execution_count": 31,
      "outputs": [
        {
          "output_type": "execute_result",
          "data": {
            "text/plain": [
              "sex\n",
              "Female    4\n",
              "Male      8\n",
              "dtype: int64"
            ]
          },
          "metadata": {
            "tags": []
          },
          "execution_count": 31
        }
      ]
    },
    {
      "cell_type": "markdown",
      "metadata": {
        "id": "bFPNqG-RNegF",
        "colab_type": "text"
      },
      "source": [
        "Perceba que no pandas usamos **size()** e não count(). Isso acontece porque count() é aplicado a cada coluna, retornando o número de registros não nulos de cada uma.\n",
        "\n",
        "Também é possível a busca de várias agregações em uma única instrução. Nesse caso, devemos utilizar a função **agg()** e passar um dicionário com as colunas e a função desejada. Bem de boa:\n",
        "\n",
        "\n",
        "```\n",
        "SELECT day, AVG(tip), COUNT(*)\n",
        "FROM tips\n",
        "GROUP BY day;\n",
        "/*\n",
        "Fri   2.734737   19\n",
        "Sat   2.993103   87\n",
        "Sun   3.255132   76\n",
        "Thur  2.771452   62\n",
        "*/\n",
        "```\n",
        "\n"
      ]
    },
    {
      "cell_type": "code",
      "metadata": {
        "id": "ZCGWH29rNpSR",
        "colab_type": "code",
        "colab": {
          "base_uri": "https://localhost:8080/",
          "height": 235
        },
        "outputId": "16e42b56-3a83-4eb3-9b24-89a080823663"
      },
      "source": [
        "tips.groupby('day').agg({'tip': np.mean, 'day': np.size})"
      ],
      "execution_count": 32,
      "outputs": [
        {
          "output_type": "execute_result",
          "data": {
            "text/html": [
              "<div>\n",
              "<style scoped>\n",
              "    .dataframe tbody tr th:only-of-type {\n",
              "        vertical-align: middle;\n",
              "    }\n",
              "\n",
              "    .dataframe tbody tr th {\n",
              "        vertical-align: top;\n",
              "    }\n",
              "\n",
              "    .dataframe thead th {\n",
              "        text-align: right;\n",
              "    }\n",
              "</style>\n",
              "<table border=\"1\" class=\"dataframe\">\n",
              "  <thead>\n",
              "    <tr style=\"text-align: right;\">\n",
              "      <th></th>\n",
              "      <th>tip</th>\n",
              "      <th>day</th>\n",
              "    </tr>\n",
              "    <tr>\n",
              "      <th>day</th>\n",
              "      <th></th>\n",
              "      <th></th>\n",
              "    </tr>\n",
              "  </thead>\n",
              "  <tbody>\n",
              "    <tr>\n",
              "      <th>Fri</th>\n",
              "      <td>2.255000</td>\n",
              "      <td>2</td>\n",
              "    </tr>\n",
              "    <tr>\n",
              "      <th>Mon</th>\n",
              "      <td>2.635000</td>\n",
              "      <td>2</td>\n",
              "    </tr>\n",
              "    <tr>\n",
              "      <th>Sat</th>\n",
              "      <td>2.485000</td>\n",
              "      <td>2</td>\n",
              "    </tr>\n",
              "    <tr>\n",
              "      <th>Sun</th>\n",
              "      <td>3.036667</td>\n",
              "      <td>3</td>\n",
              "    </tr>\n",
              "    <tr>\n",
              "      <th>Thur</th>\n",
              "      <td>2.106667</td>\n",
              "      <td>3</td>\n",
              "    </tr>\n",
              "  </tbody>\n",
              "</table>\n",
              "</div>"
            ],
            "text/plain": [
              "           tip  day\n",
              "day                \n",
              "Fri   2.255000    2\n",
              "Mon   2.635000    2\n",
              "Sat   2.485000    2\n",
              "Sun   3.036667    3\n",
              "Thur  2.106667    3"
            ]
          },
          "metadata": {
            "tags": []
          },
          "execution_count": 32
        }
      ]
    },
    {
      "cell_type": "markdown",
      "metadata": {
        "id": "TUU_rLmHOuJf",
        "colab_type": "text"
      },
      "source": [
        "## Inner Join\n",
        "Utilizadíssimo nos selects, o inner join é um tipo de junção que busca apenas os dados que existem nas duas tabelas juntadas. Vamos considerar os seguintes DataFrames como exemplo:"
      ]
    },
    {
      "cell_type": "code",
      "metadata": {
        "id": "ZpM8PhBIOsxx",
        "colab_type": "code",
        "colab": {
          "base_uri": "https://localhost:8080/",
          "height": 173
        },
        "outputId": "61f6fa9d-8838-4d04-c4a1-207e63285e52"
      },
      "source": [
        "df1 = pd.DataFrame({\n",
        "                    'key': ['A', 'B', 'C', 'D'],\n",
        "                    'value': np.random.randn(4)\n",
        "                    })\n",
        "df1.head()"
      ],
      "execution_count": 34,
      "outputs": [
        {
          "output_type": "execute_result",
          "data": {
            "text/html": [
              "<div>\n",
              "<style scoped>\n",
              "    .dataframe tbody tr th:only-of-type {\n",
              "        vertical-align: middle;\n",
              "    }\n",
              "\n",
              "    .dataframe tbody tr th {\n",
              "        vertical-align: top;\n",
              "    }\n",
              "\n",
              "    .dataframe thead th {\n",
              "        text-align: right;\n",
              "    }\n",
              "</style>\n",
              "<table border=\"1\" class=\"dataframe\">\n",
              "  <thead>\n",
              "    <tr style=\"text-align: right;\">\n",
              "      <th></th>\n",
              "      <th>key</th>\n",
              "      <th>value</th>\n",
              "    </tr>\n",
              "  </thead>\n",
              "  <tbody>\n",
              "    <tr>\n",
              "      <th>0</th>\n",
              "      <td>A</td>\n",
              "      <td>-0.294990</td>\n",
              "    </tr>\n",
              "    <tr>\n",
              "      <th>1</th>\n",
              "      <td>B</td>\n",
              "      <td>0.440535</td>\n",
              "    </tr>\n",
              "    <tr>\n",
              "      <th>2</th>\n",
              "      <td>C</td>\n",
              "      <td>0.617567</td>\n",
              "    </tr>\n",
              "    <tr>\n",
              "      <th>3</th>\n",
              "      <td>D</td>\n",
              "      <td>-0.114170</td>\n",
              "    </tr>\n",
              "  </tbody>\n",
              "</table>\n",
              "</div>"
            ],
            "text/plain": [
              "  key     value\n",
              "0   A -0.294990\n",
              "1   B  0.440535\n",
              "2   C  0.617567\n",
              "3   D -0.114170"
            ]
          },
          "metadata": {
            "tags": []
          },
          "execution_count": 34
        }
      ]
    },
    {
      "cell_type": "code",
      "metadata": {
        "id": "_0gDedp-O9EI",
        "colab_type": "code",
        "colab": {
          "base_uri": "https://localhost:8080/",
          "height": 173
        },
        "outputId": "a385ce46-666e-4ed9-b0a0-8da2c3f646ef"
      },
      "source": [
        "df2 = pd.DataFrame({\n",
        "                    'key': ['B', 'D', 'D', 'E'],\n",
        "                    'value': np.random.randn(4)\n",
        "                    })\n",
        "df2.head()"
      ],
      "execution_count": 38,
      "outputs": [
        {
          "output_type": "execute_result",
          "data": {
            "text/html": [
              "<div>\n",
              "<style scoped>\n",
              "    .dataframe tbody tr th:only-of-type {\n",
              "        vertical-align: middle;\n",
              "    }\n",
              "\n",
              "    .dataframe tbody tr th {\n",
              "        vertical-align: top;\n",
              "    }\n",
              "\n",
              "    .dataframe thead th {\n",
              "        text-align: right;\n",
              "    }\n",
              "</style>\n",
              "<table border=\"1\" class=\"dataframe\">\n",
              "  <thead>\n",
              "    <tr style=\"text-align: right;\">\n",
              "      <th></th>\n",
              "      <th>key</th>\n",
              "      <th>value</th>\n",
              "    </tr>\n",
              "  </thead>\n",
              "  <tbody>\n",
              "    <tr>\n",
              "      <th>0</th>\n",
              "      <td>B</td>\n",
              "      <td>-0.035947</td>\n",
              "    </tr>\n",
              "    <tr>\n",
              "      <th>1</th>\n",
              "      <td>D</td>\n",
              "      <td>0.467819</td>\n",
              "    </tr>\n",
              "    <tr>\n",
              "      <th>2</th>\n",
              "      <td>D</td>\n",
              "      <td>0.554744</td>\n",
              "    </tr>\n",
              "    <tr>\n",
              "      <th>3</th>\n",
              "      <td>E</td>\n",
              "      <td>-0.863968</td>\n",
              "    </tr>\n",
              "  </tbody>\n",
              "</table>\n",
              "</div>"
            ],
            "text/plain": [
              "  key     value\n",
              "0   B -0.035947\n",
              "1   D  0.467819\n",
              "2   D  0.554744\n",
              "3   E -0.863968"
            ]
          },
          "metadata": {
            "tags": []
          },
          "execution_count": 38
        }
      ]
    },
    {
      "cell_type": "markdown",
      "metadata": {
        "id": "lU1jJReXPL_6",
        "colab_type": "text"
      },
      "source": [
        "Assumimos que temos as mesmas tabelas na base com a mesma estrutura\n",
        "\n",
        "\n",
        "```\n",
        "SELECT *\n",
        "FROM df1\n",
        "INNER JOIN df2\n",
        "  ON df1.key = df2.key;\n",
        "```\n",
        "\n"
      ]
    },
    {
      "cell_type": "code",
      "metadata": {
        "id": "dh6Yl3IvO8rB",
        "colab_type": "code",
        "colab": {
          "base_uri": "https://localhost:8080/",
          "height": 142
        },
        "outputId": "347d2dca-ac01-41ef-932d-3dfa136ad07b"
      },
      "source": [
        "# merge() realiza um INNER JOIN por default\n",
        "pd.merge(df1, df2, on='key')"
      ],
      "execution_count": 39,
      "outputs": [
        {
          "output_type": "execute_result",
          "data": {
            "text/html": [
              "<div>\n",
              "<style scoped>\n",
              "    .dataframe tbody tr th:only-of-type {\n",
              "        vertical-align: middle;\n",
              "    }\n",
              "\n",
              "    .dataframe tbody tr th {\n",
              "        vertical-align: top;\n",
              "    }\n",
              "\n",
              "    .dataframe thead th {\n",
              "        text-align: right;\n",
              "    }\n",
              "</style>\n",
              "<table border=\"1\" class=\"dataframe\">\n",
              "  <thead>\n",
              "    <tr style=\"text-align: right;\">\n",
              "      <th></th>\n",
              "      <th>key</th>\n",
              "      <th>value_x</th>\n",
              "      <th>value_y</th>\n",
              "    </tr>\n",
              "  </thead>\n",
              "  <tbody>\n",
              "    <tr>\n",
              "      <th>0</th>\n",
              "      <td>B</td>\n",
              "      <td>0.440535</td>\n",
              "      <td>-0.035947</td>\n",
              "    </tr>\n",
              "    <tr>\n",
              "      <th>1</th>\n",
              "      <td>D</td>\n",
              "      <td>-0.114170</td>\n",
              "      <td>0.467819</td>\n",
              "    </tr>\n",
              "    <tr>\n",
              "      <th>2</th>\n",
              "      <td>D</td>\n",
              "      <td>-0.114170</td>\n",
              "      <td>0.554744</td>\n",
              "    </tr>\n",
              "  </tbody>\n",
              "</table>\n",
              "</div>"
            ],
            "text/plain": [
              "  key   value_x   value_y\n",
              "0   B  0.440535 -0.035947\n",
              "1   D -0.114170  0.467819\n",
              "2   D -0.114170  0.554744"
            ]
          },
          "metadata": {
            "tags": []
          },
          "execution_count": 39
        }
      ]
    },
    {
      "cell_type": "code",
      "metadata": {
        "id": "_HfBqD4kPgKn",
        "colab_type": "code",
        "colab": {}
      },
      "source": [
        "O método merge()permite também que o join seja feito por colunas com nomes diferentes:"
      ],
      "execution_count": 0,
      "outputs": []
    },
    {
      "cell_type": "code",
      "metadata": {
        "id": "gYY0jFxbPhO5",
        "colab_type": "code",
        "colab": {
          "base_uri": "https://localhost:8080/",
          "height": 142
        },
        "outputId": "dcfdc4d3-d6e1-4c79-d649-632df63bc96c"
      },
      "source": [
        " df1 = pd.DataFrame({'fruta': ['maçã', 'laranja', 'pera', 'pêssego'],\n",
        "                    'value': [1, 2, 3, 5]})\n",
        " \n",
        " df2 = pd.DataFrame({'alimento': ['maçã', 'pão', 'pera', 'pêssego'],\n",
        "                    'value': [5, 6, 7, 8]})\n",
        " \n",
        " df1.merge(df2, left_on='fruta', right_on='alimento', \n",
        "                        suffixes=('_fruta', '_alimento'))"
      ],
      "execution_count": 41,
      "outputs": [
        {
          "output_type": "execute_result",
          "data": {
            "text/html": [
              "<div>\n",
              "<style scoped>\n",
              "    .dataframe tbody tr th:only-of-type {\n",
              "        vertical-align: middle;\n",
              "    }\n",
              "\n",
              "    .dataframe tbody tr th {\n",
              "        vertical-align: top;\n",
              "    }\n",
              "\n",
              "    .dataframe thead th {\n",
              "        text-align: right;\n",
              "    }\n",
              "</style>\n",
              "<table border=\"1\" class=\"dataframe\">\n",
              "  <thead>\n",
              "    <tr style=\"text-align: right;\">\n",
              "      <th></th>\n",
              "      <th>fruta</th>\n",
              "      <th>value_fruta</th>\n",
              "      <th>alimento</th>\n",
              "      <th>value_alimento</th>\n",
              "    </tr>\n",
              "  </thead>\n",
              "  <tbody>\n",
              "    <tr>\n",
              "      <th>0</th>\n",
              "      <td>maçã</td>\n",
              "      <td>1</td>\n",
              "      <td>maçã</td>\n",
              "      <td>5</td>\n",
              "    </tr>\n",
              "    <tr>\n",
              "      <th>1</th>\n",
              "      <td>pera</td>\n",
              "      <td>3</td>\n",
              "      <td>pera</td>\n",
              "      <td>7</td>\n",
              "    </tr>\n",
              "    <tr>\n",
              "      <th>2</th>\n",
              "      <td>pêssego</td>\n",
              "      <td>5</td>\n",
              "      <td>pêssego</td>\n",
              "      <td>8</td>\n",
              "    </tr>\n",
              "  </tbody>\n",
              "</table>\n",
              "</div>"
            ],
            "text/plain": [
              "     fruta  value_fruta alimento  value_alimento\n",
              "0     maçã            1     maçã               5\n",
              "1     pera            3     pera               7\n",
              "2  pêssego            5  pêssego               8"
            ]
          },
          "metadata": {
            "tags": []
          },
          "execution_count": 41
        }
      ]
    },
    {
      "cell_type": "markdown",
      "metadata": {
        "id": "nzSjqTqCPs-R",
        "colab_type": "text"
      },
      "source": [
        "## Left (Outer) Join\n",
        "O left join traz todos os registros da primeira tabela declarada (da esquerda) e se houverem dados tabela relacionada também serão projetados. No exemplo, utilizo o mesmo data frame do inner join. No pandas, o tipo de junção é passada no parâmetro how do merge().\n",
        "\n",
        "\n",
        "\n",
        "```\n",
        "-- mostra todos os registros de df1\n",
        "SELECT *\n",
        "FROM df1\n",
        "LEFT OUTER JOIN df2\n",
        "  ON df1.key = df2.key;\n",
        "```\n",
        "\n"
      ]
    },
    {
      "cell_type": "code",
      "metadata": {
        "id": "QFDluW1sP0rU",
        "colab_type": "code",
        "colab": {
          "base_uri": "https://localhost:8080/",
          "height": 204
        },
        "outputId": "16b666df-d5e5-4fb6-867c-fa14a100cc59"
      },
      "source": [
        "df1 = pd.DataFrame({\n",
        "                    'key': ['A', 'B', 'C', 'D'],\n",
        "                    'value': np.random.randn(4)\n",
        "                    }) \n",
        "\n",
        "df2 = pd.DataFrame({\n",
        "                    'key': ['B', 'D', 'D', 'E'],\n",
        "                    'value': np.random.randn(4)\n",
        "                    })\n",
        "\n",
        "\n",
        "# mostra todos os registros de df1\n",
        "pd.merge(df1, df2, on='key', how='left')"
      ],
      "execution_count": 48,
      "outputs": [
        {
          "output_type": "execute_result",
          "data": {
            "text/html": [
              "<div>\n",
              "<style scoped>\n",
              "    .dataframe tbody tr th:only-of-type {\n",
              "        vertical-align: middle;\n",
              "    }\n",
              "\n",
              "    .dataframe tbody tr th {\n",
              "        vertical-align: top;\n",
              "    }\n",
              "\n",
              "    .dataframe thead th {\n",
              "        text-align: right;\n",
              "    }\n",
              "</style>\n",
              "<table border=\"1\" class=\"dataframe\">\n",
              "  <thead>\n",
              "    <tr style=\"text-align: right;\">\n",
              "      <th></th>\n",
              "      <th>key</th>\n",
              "      <th>value_x</th>\n",
              "      <th>value_y</th>\n",
              "    </tr>\n",
              "  </thead>\n",
              "  <tbody>\n",
              "    <tr>\n",
              "      <th>0</th>\n",
              "      <td>A</td>\n",
              "      <td>-0.671132</td>\n",
              "      <td>NaN</td>\n",
              "    </tr>\n",
              "    <tr>\n",
              "      <th>1</th>\n",
              "      <td>B</td>\n",
              "      <td>-0.963374</td>\n",
              "      <td>-0.442932</td>\n",
              "    </tr>\n",
              "    <tr>\n",
              "      <th>2</th>\n",
              "      <td>C</td>\n",
              "      <td>-1.044864</td>\n",
              "      <td>NaN</td>\n",
              "    </tr>\n",
              "    <tr>\n",
              "      <th>3</th>\n",
              "      <td>D</td>\n",
              "      <td>-0.794477</td>\n",
              "      <td>-0.618664</td>\n",
              "    </tr>\n",
              "    <tr>\n",
              "      <th>4</th>\n",
              "      <td>D</td>\n",
              "      <td>-0.794477</td>\n",
              "      <td>1.051263</td>\n",
              "    </tr>\n",
              "  </tbody>\n",
              "</table>\n",
              "</div>"
            ],
            "text/plain": [
              "  key   value_x   value_y\n",
              "0   A -0.671132       NaN\n",
              "1   B -0.963374 -0.442932\n",
              "2   C -1.044864       NaN\n",
              "3   D -0.794477 -0.618664\n",
              "4   D -0.794477  1.051263"
            ]
          },
          "metadata": {
            "tags": []
          },
          "execution_count": 48
        }
      ]
    },
    {
      "cell_type": "markdown",
      "metadata": {
        "id": "GDgbNqFVQQxy",
        "colab_type": "text"
      },
      "source": [
        "## Union\n",
        "No pandas temos o mesmo resultado usando a função concat()."
      ]
    },
    {
      "cell_type": "code",
      "metadata": {
        "id": "2GAk6llJQP0a",
        "colab_type": "code",
        "colab": {}
      },
      "source": [
        "df1 = pd.DataFrame({\n",
        "                    'city': ['Chicago', 'San Francisco', 'New York City'],\n",
        "                     'rank': range(1, 4)\n",
        "                   })\n",
        "\n",
        "df2 = pd.DataFrame({\n",
        "                    'city': ['Chicago', 'Boston', 'Los Angeles'],\n",
        "                    'rank': [1, 4, 5]\n",
        "                  })"
      ],
      "execution_count": 0,
      "outputs": []
    },
    {
      "cell_type": "markdown",
      "metadata": {
        "id": "87WxUfFtQtnZ",
        "colab_type": "text"
      },
      "source": [
        "\n",
        "\n",
        "```\n",
        "SELECT city, rank\n",
        "FROM df1\n",
        "UNION ALL\n",
        "SELECT city, rank\n",
        "FROM df2;\n",
        "/*\n",
        "         city  rank\n",
        "      Chicago     1\n",
        "San Francisco     2\n",
        "New York City     3\n",
        "      Chicago     1\n",
        "       Boston     4\n",
        "  Los Angeles     5\n",
        "*/\n",
        "```\n",
        "\n"
      ]
    },
    {
      "cell_type": "code",
      "metadata": {
        "id": "QpUKhSv7QsML",
        "colab_type": "code",
        "colab": {
          "base_uri": "https://localhost:8080/",
          "height": 235
        },
        "outputId": "d83e4d10-3a2a-4ed0-beaa-5b7bd9b9ceac"
      },
      "source": [
        "pd.concat([df1, df2])"
      ],
      "execution_count": 51,
      "outputs": [
        {
          "output_type": "execute_result",
          "data": {
            "text/html": [
              "<div>\n",
              "<style scoped>\n",
              "    .dataframe tbody tr th:only-of-type {\n",
              "        vertical-align: middle;\n",
              "    }\n",
              "\n",
              "    .dataframe tbody tr th {\n",
              "        vertical-align: top;\n",
              "    }\n",
              "\n",
              "    .dataframe thead th {\n",
              "        text-align: right;\n",
              "    }\n",
              "</style>\n",
              "<table border=\"1\" class=\"dataframe\">\n",
              "  <thead>\n",
              "    <tr style=\"text-align: right;\">\n",
              "      <th></th>\n",
              "      <th>city</th>\n",
              "      <th>rank</th>\n",
              "    </tr>\n",
              "  </thead>\n",
              "  <tbody>\n",
              "    <tr>\n",
              "      <th>0</th>\n",
              "      <td>Chicago</td>\n",
              "      <td>1</td>\n",
              "    </tr>\n",
              "    <tr>\n",
              "      <th>1</th>\n",
              "      <td>San Francisco</td>\n",
              "      <td>2</td>\n",
              "    </tr>\n",
              "    <tr>\n",
              "      <th>2</th>\n",
              "      <td>New York City</td>\n",
              "      <td>3</td>\n",
              "    </tr>\n",
              "    <tr>\n",
              "      <th>0</th>\n",
              "      <td>Chicago</td>\n",
              "      <td>1</td>\n",
              "    </tr>\n",
              "    <tr>\n",
              "      <th>1</th>\n",
              "      <td>Boston</td>\n",
              "      <td>4</td>\n",
              "    </tr>\n",
              "    <tr>\n",
              "      <th>2</th>\n",
              "      <td>Los Angeles</td>\n",
              "      <td>5</td>\n",
              "    </tr>\n",
              "  </tbody>\n",
              "</table>\n",
              "</div>"
            ],
            "text/plain": [
              "            city  rank\n",
              "0        Chicago     1\n",
              "1  San Francisco     2\n",
              "2  New York City     3\n",
              "0        Chicago     1\n",
              "1         Boston     4\n",
              "2    Los Angeles     5"
            ]
          },
          "metadata": {
            "tags": []
          },
          "execution_count": 51
        }
      ]
    },
    {
      "cell_type": "markdown",
      "metadata": {
        "id": "sT7eADqhQ09B",
        "colab_type": "text"
      },
      "source": [
        "Em SQL, UNION é similar do UNION ALL, porém o UNION remove os registros duplicados.\n",
        "\n",
        "\n",
        "```\n",
        "SELECT city, rank\n",
        "FROM df1\n",
        "UNION\n",
        "SELECT city, rank\n",
        "FROM df2;\n",
        "-- Perceba que agora aparece uma única vez a cidade de Chicago\n",
        "/*\n",
        "         city  rank\n",
        "      Chicago     1\n",
        "San Francisco     2\n",
        "New York City     3\n",
        "       Boston     4\n",
        "  Los Angeles     5\n",
        "*/\n",
        "```\n",
        "\n",
        "No Pandas, o método drop_duplicates() pode ser usado em conjunto com o concat() para repetir esse comportado."
      ]
    },
    {
      "cell_type": "code",
      "metadata": {
        "id": "mrYnzNY0RLdW",
        "colab_type": "code",
        "colab": {
          "base_uri": "https://localhost:8080/",
          "height": 204
        },
        "outputId": "98b462af-7547-4287-ec24-f1f73ada6d15"
      },
      "source": [
        "pd.concat([df1, df2]).drop_duplicates()"
      ],
      "execution_count": 52,
      "outputs": [
        {
          "output_type": "execute_result",
          "data": {
            "text/html": [
              "<div>\n",
              "<style scoped>\n",
              "    .dataframe tbody tr th:only-of-type {\n",
              "        vertical-align: middle;\n",
              "    }\n",
              "\n",
              "    .dataframe tbody tr th {\n",
              "        vertical-align: top;\n",
              "    }\n",
              "\n",
              "    .dataframe thead th {\n",
              "        text-align: right;\n",
              "    }\n",
              "</style>\n",
              "<table border=\"1\" class=\"dataframe\">\n",
              "  <thead>\n",
              "    <tr style=\"text-align: right;\">\n",
              "      <th></th>\n",
              "      <th>city</th>\n",
              "      <th>rank</th>\n",
              "    </tr>\n",
              "  </thead>\n",
              "  <tbody>\n",
              "    <tr>\n",
              "      <th>0</th>\n",
              "      <td>Chicago</td>\n",
              "      <td>1</td>\n",
              "    </tr>\n",
              "    <tr>\n",
              "      <th>1</th>\n",
              "      <td>San Francisco</td>\n",
              "      <td>2</td>\n",
              "    </tr>\n",
              "    <tr>\n",
              "      <th>2</th>\n",
              "      <td>New York City</td>\n",
              "      <td>3</td>\n",
              "    </tr>\n",
              "    <tr>\n",
              "      <th>1</th>\n",
              "      <td>Boston</td>\n",
              "      <td>4</td>\n",
              "    </tr>\n",
              "    <tr>\n",
              "      <th>2</th>\n",
              "      <td>Los Angeles</td>\n",
              "      <td>5</td>\n",
              "    </tr>\n",
              "  </tbody>\n",
              "</table>\n",
              "</div>"
            ],
            "text/plain": [
              "            city  rank\n",
              "0        Chicago     1\n",
              "1  San Francisco     2\n",
              "2  New York City     3\n",
              "1         Boston     4\n",
              "2    Los Angeles     5"
            ]
          },
          "metadata": {
            "tags": []
          },
          "execution_count": 52
        }
      ]
    }
  ]
}